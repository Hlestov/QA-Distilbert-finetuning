{
  "cells": [
    {
      "cell_type": "markdown",
      "metadata": {
        "id": "hOAn5qYnZYrc"
      },
      "source": [
        "# Fine-tuning disitilbert\n"
      ]
    },
    {
      "cell_type": "markdown",
      "source": [
        "## install dependencies and imports"
      ],
      "metadata": {
        "id": "2T8itlRU8m5W"
      }
    },
    {
      "cell_type": "code",
      "execution_count": null,
      "metadata": {
        "id": "QhJGE9OlZYrg"
      },
      "outputs": [],
      "source": [
        "!pip install -q datasets evaluate transformers[sentencepiece]\n",
        "!pip install -q accelerate\n",
        "!apt install -q git-lfs\n",
        "\n",
        "!gdown 1tMflGHMM5AcKnpcpt_6JdTGQcAaOzMYF\n",
        "!unzip /content/nlp_test_task_2023.zip"
      ]
    },
    {
      "cell_type": "code",
      "source": [
        "from transformers import Trainer\n",
        "from transformers import TrainingArguments\n",
        "from transformers import AutoTokenizer\n",
        "from transformers import AutoModelForQuestionAnswering\n",
        "\n",
        "\n",
        "import evaluate\n",
        "import collections\n",
        "from datasets import load_dataset\n",
        "\n",
        "\n",
        "import numpy as np\n",
        "import torch\n",
        "from torch.utils.data import DataLoader\n",
        "from transformers import default_data_collator\n",
        "from transformers import get_scheduler\n",
        "from accelerate import Accelerator\n",
        "from torch.optim import AdamW\n",
        "\n",
        "\n",
        "from huggingface_hub import notebook_login\n",
        "from huggingface_hub import Repository, get_full_repo_name\n",
        "\n",
        "\n",
        "import json\n",
        "from tqdm.auto import tqdm\n",
        "\n",
        "\n",
        "notebook_login()"
      ],
      "metadata": {
        "colab": {
          "base_uri": "https://localhost:8080/",
          "height": 331,
          "referenced_widgets": [
            "35d936c3849f4b7c9c1946b9ab3e4ecc",
            "5f5a98dde93a47b2b889163912ae5514",
            "0f7410f36ef746a99580bed6a8b80138",
            "16fa9e857076447499d1be26caa8faed",
            "9d29d4e2e3944669869bf3306f5b0a44",
            "fd683c3ab1a4424e9c9242eef29dc70a",
            "6658524562c1479ebe38300ded7fed66",
            "6232be71de0947a3a32c271b91b4633e",
            "374e1881637045c1adb1d9e66a793bf0",
            "db37def25d234195ad66a39aa89ceebd",
            "c9b9e87b64344401af47303c7bcd7727",
            "a892cb5e546b4654929fcf0c7455347e",
            "035651dc26f84082b58c072765553537",
            "a8db55606c524fecb38def033ae858ac",
            "12a9802538654fcd8cdf6525d88b662e",
            "ba018c5eebc24b5fbcd0af31e0677b51",
            "706943ca3c5f427591dfa6cfff5e2aaf"
          ]
        },
        "id": "-XUKj5ftL51l",
        "outputId": "6fcfa2f4-3866-4a83-e769-552bb4135bda"
      },
      "execution_count": 35,
      "outputs": [
        {
          "output_type": "display_data",
          "data": {
            "text/plain": [
              "VBox(children=(HTML(value='<center> <img\\nsrc=https://huggingface.co/front/assets/huggingface_logo-noborder.sv…"
            ],
            "application/vnd.jupyter.widget-view+json": {
              "version_major": 2,
              "version_minor": 0,
              "model_id": "35d936c3849f4b7c9c1946b9ab3e4ecc"
            }
          },
          "metadata": {}
        }
      ]
    },
    {
      "cell_type": "code",
      "source": [
        "SEED = 0\n",
        "torch.manual_seed(SEED)\n",
        "torch.backends.cudnn.deterministic = True\n",
        "if torch.cuda.is_available():\n",
        "    torch.cuda.manual_seed_all(SEED)\n",
        "np.random.seed(SEED)"
      ],
      "metadata": {
        "id": "PwBv9F5rFU4L"
      },
      "execution_count": null,
      "outputs": []
    },
    {
      "cell_type": "markdown",
      "source": [
        "## prepare dataset"
      ],
      "metadata": {
        "id": "W4sog8mo7zqO"
      }
    },
    {
      "cell_type": "code",
      "execution_count": null,
      "metadata": {
        "id": "OYZ6QTSSlvYn"
      },
      "outputs": [],
      "source": [
        "PATH = '/content/nlp_test_task_2023/dataset'\n",
        "dataset = load_dataset('json', data_files=PATH + '/train.json')['train']\n",
        "dataset = dataset.train_test_split(test_size=0.2, shuffle=True, seed=SEED)"
      ]
    },
    {
      "cell_type": "code",
      "execution_count": 12,
      "metadata": {
        "id": "fv4AdJR0ZYrq"
      },
      "outputs": [],
      "source": [
        "def preprocess_training_examples(examples):\n",
        "    questions = [q.strip() for q in examples[\"label\"]]\n",
        "    inputs = tokenizer(\n",
        "        questions,\n",
        "        examples[\"text\"],\n",
        "        max_length=max_length,\n",
        "        truncation=\"only_second\",\n",
        "        stride=stride,\n",
        "        return_overflowing_tokens=True,\n",
        "        return_offsets_mapping=True,\n",
        "        padding=\"max_length\",\n",
        "    )\n",
        "\n",
        "    offset_mapping = inputs.pop(\"offset_mapping\")\n",
        "    sample_map = inputs.pop(\"overflow_to_sample_mapping\")\n",
        "    answers = [{'text' : i['text'],\n",
        "                'answer_start' : i['answer_start']} for i in examples['extracted_part']]\n",
        "    start_positions = []\n",
        "    end_positions = []\n",
        "\n",
        "    for i, offset in enumerate(offset_mapping):\n",
        "        sample_idx = sample_map[i]\n",
        "        answer = answers[sample_idx]\n",
        "        start_char = answer[\"answer_start\"][0]\n",
        "        end_char = answer[\"answer_start\"][0] + len(answer[\"text\"][0])\n",
        "        sequence_ids = inputs.sequence_ids(i)\n",
        "\n",
        "        # Find the start and end of the context\n",
        "        idx = 0\n",
        "        while sequence_ids[idx] != 1:\n",
        "            idx += 1\n",
        "        context_start = idx\n",
        "        while sequence_ids[idx] == 1:\n",
        "            idx += 1\n",
        "        context_end = idx - 1\n",
        "\n",
        "        # If the answer is not fully inside the context, label is (0, 0)\n",
        "        if offset[context_start][0] > start_char or offset[context_end][1] < end_char:\n",
        "            start_positions.append(0)\n",
        "            end_positions.append(0)\n",
        "        else:\n",
        "            # Otherwise it's the start and end token positions\n",
        "            idx = context_start\n",
        "            while idx <= context_end and offset[idx][0] <= start_char:\n",
        "                idx += 1\n",
        "            start_positions.append(idx - 1)\n",
        "\n",
        "            idx = context_end\n",
        "            while idx >= context_start and offset[idx][1] >= end_char:\n",
        "                idx -= 1\n",
        "            end_positions.append(idx + 1)\n",
        "\n",
        "    inputs[\"start_positions\"] = start_positions\n",
        "    inputs[\"end_positions\"] = end_positions\n",
        "    return inputs"
      ]
    },
    {
      "cell_type": "code",
      "execution_count": 13,
      "metadata": {
        "id": "KCWKobd8ZYrr"
      },
      "outputs": [],
      "source": [
        "def preprocess_validation_examples(examples):\n",
        "    questions = [q.strip() for q in examples[\"label\"]]\n",
        "    inputs = tokenizer(\n",
        "        questions,\n",
        "        examples[\"text\"],\n",
        "        max_length=max_length,\n",
        "        truncation=\"only_second\",\n",
        "        stride=stride,\n",
        "        return_overflowing_tokens=True,\n",
        "        return_offsets_mapping=True,\n",
        "        padding=\"max_length\",\n",
        "    )\n",
        "\n",
        "    sample_map = inputs.pop(\"overflow_to_sample_mapping\")\n",
        "    example_ids = []\n",
        "\n",
        "    for i in range(len(inputs[\"input_ids\"])):\n",
        "        sample_idx = sample_map[i]\n",
        "        example_ids.append(examples[\"id\"][sample_idx])\n",
        "\n",
        "        sequence_ids = inputs.sequence_ids(i)\n",
        "        offset = inputs[\"offset_mapping\"][i]\n",
        "        inputs[\"offset_mapping\"][i] = [\n",
        "            o if sequence_ids[k] == 1 else None for k, o in enumerate(offset)\n",
        "        ]\n",
        "\n",
        "    inputs[\"example_id\"] = example_ids\n",
        "    return inputs"
      ]
    },
    {
      "cell_type": "code",
      "execution_count": 14,
      "metadata": {
        "id": "_oJBDOI2ZYru"
      },
      "outputs": [],
      "source": [
        "def compute_metrics(start_logits, end_logits, features, examples):\n",
        "    example_to_features = collections.defaultdict(list)\n",
        "    for idx, feature in enumerate(features):\n",
        "        example_to_features[str(feature[\"example_id\"])].append(idx)\n",
        "\n",
        "    predicted_answers = []\n",
        "    for example in examples:\n",
        "        example_id = str(example[\"id\"])\n",
        "        context = example[\"text\"]\n",
        "        answers = []\n",
        "\n",
        "        # Loop through all features associated with that example\n",
        "        for feature_index in example_to_features[example_id]:\n",
        "            start_logit = start_logits[feature_index]\n",
        "            end_logit = end_logits[feature_index]\n",
        "            offsets = features[feature_index][\"offset_mapping\"]\n",
        "\n",
        "            start_indexes = np.argsort(start_logit)[-1 : -n_best - 1 : -1].tolist()\n",
        "            end_indexes = np.argsort(end_logit)[-1 : -n_best - 1 : -1].tolist()\n",
        "            for start_index in start_indexes:\n",
        "                for end_index in end_indexes:\n",
        "                    # Skip answers that are not fully in the context\n",
        "                    if offsets[start_index] is None or offsets[end_index] is None:\n",
        "                        continue\n",
        "                    # Skip answers with a length that is either < 0 or > max_answer_length\n",
        "                    if (\n",
        "                        end_index < start_index\n",
        "                        or end_index - start_index + 1 > max_answer_length\n",
        "                    ):\n",
        "                        continue\n",
        "\n",
        "                    answer = {\n",
        "                        \"text\": context[offsets[start_index][0] : offsets[end_index][1]],\n",
        "                        \"logit_score\": start_logit[start_index] + end_logit[end_index],\n",
        "                    }\n",
        "                    answers.append(answer)\n",
        "\n",
        "        # Select the answer with the best score\n",
        "        if len(answers) > 0:\n",
        "            best_answer = max(answers, key=lambda x: x[\"logit_score\"])\n",
        "            predicted_answers.append(\n",
        "                {\"id\": example_id, \"prediction_text\": best_answer[\"text\"]}\n",
        "            )\n",
        "        else:\n",
        "            predicted_answers.append({\"id\": example_id, \"prediction_text\": \"\"})\n",
        "\n",
        "    theoretical_answers = [{\"id\": str(ex[\"id\"]), \n",
        "                            \"answers\": {'text' : ex['extracted_part']['text'], \n",
        "                                        'answer_start' : ex['extracted_part']['answer_start']}} for ex in examples]\n",
        "\n",
        "    return metric.compute(predictions=predicted_answers, references=theoretical_answers)"
      ]
    },
    {
      "cell_type": "code",
      "source": [
        "n_best = 100\n",
        "# Максимальная длинна ответа чуть больше 100\n",
        "max_answer_length = 120 \n",
        "metric = evaluate.load(\"squad\")"
      ],
      "metadata": {
        "id": "yky6gGKHhrG5"
      },
      "execution_count": null,
      "outputs": []
    },
    {
      "cell_type": "code",
      "source": [
        "model_checkpoint = \"AndrewChar/model-QA-5-epoch-RU\"\n",
        "tokenizer = AutoTokenizer.from_pretrained(model_checkpoint)"
      ],
      "metadata": {
        "id": "B0Bm8SishgjG"
      },
      "execution_count": null,
      "outputs": []
    },
    {
      "cell_type": "code",
      "execution_count": null,
      "metadata": {
        "id": "ezjDU_0uZYrs"
      },
      "outputs": [],
      "source": [
        "# Пробовал разные варианты max_len и stride\n",
        "# эти значения самые оптимальные\n",
        "max_length = 512\n",
        "stride = 128\n",
        "\n",
        "\n",
        "train_dataset = dataset['train'].map(\n",
        "    preprocess_training_examples,\n",
        "    batched=True,\n",
        "    remove_columns=dataset['train'].column_names,\n",
        ")\n",
        "\n",
        "\n",
        "validation_dataset =  dataset['test'].map(\n",
        "    preprocess_validation_examples,\n",
        "    batched=True,\n",
        "    remove_columns= dataset['test'].column_names,\n",
        ")\n",
        "\n",
        "\n",
        "train_dataset.set_format(\"torch\")\n",
        "validation_set = validation_dataset.remove_columns([\"example_id\", \"offset_mapping\"])\n",
        "validation_set.set_format(\"torch\")"
      ]
    },
    {
      "cell_type": "code",
      "source": [
        "print('MAX_LEN =', max_length)\n",
        "print('STRIDE =', stride)\n",
        "print('')\n",
        "print('Размер train:', len(dataset['train']))\n",
        "print('Размер train после предобработки:', len(train_dataset))\n",
        "print('')\n",
        "print('Размер test:', len(dataset['test']))\n",
        "print('Размер test после предобработки:', len(validation_dataset))"
      ],
      "metadata": {
        "colab": {
          "base_uri": "https://localhost:8080/"
        },
        "id": "VyfUXQ1HIg8G",
        "outputId": "a309da48-3c34-43bf-9175-b7eaec0729f0"
      },
      "execution_count": 16,
      "outputs": [
        {
          "output_type": "stream",
          "name": "stdout",
          "text": [
            "MAX_LEN = 512\n",
            "STRIDE = 128\n",
            "\n",
            "Размер train: 1439\n",
            "Размер train после предобработки: 2940\n",
            "\n",
            "Размер test: 360\n",
            "Размер test после предобработки: 744\n"
          ]
        }
      ]
    },
    {
      "cell_type": "code",
      "execution_count": 17,
      "metadata": {
        "id": "f1lrIo5yZYrw"
      },
      "outputs": [],
      "source": [
        "batch_size = 16\n",
        "\n",
        "train_dataloader = DataLoader(\n",
        "    train_dataset,\n",
        "    shuffle=True,\n",
        "    collate_fn=default_data_collator,\n",
        "    batch_size=batch_size,\n",
        ")\n",
        "\n",
        "\n",
        "eval_dataloader = DataLoader(\n",
        "    validation_set, collate_fn=default_data_collator, batch_size=batch_size\n",
        ")"
      ]
    },
    {
      "cell_type": "markdown",
      "source": [
        "## train_model"
      ],
      "metadata": {
        "id": "8CQi_nZS77h-"
      }
    },
    {
      "cell_type": "code",
      "execution_count": null,
      "metadata": {
        "id": "Zh4G2iRoZYrw"
      },
      "outputs": [],
      "source": [
        "model = AutoModelForQuestionAnswering.from_pretrained(model_checkpoint, from_tf=True)\n",
        "# Пробовал разные значение lr. Текущий самый оптимальный. \n",
        "optimizer = AdamW(model.parameters(), lr=1e-5)\n",
        "\n",
        "accelerator = Accelerator()\n",
        "model, optimizer, train_dataloader, eval_dataloader = accelerator.prepare(\n",
        "    model, optimizer, train_dataloader, eval_dataloader\n",
        ")"
      ]
    },
    {
      "cell_type": "code",
      "execution_count": null,
      "metadata": {
        "id": "gUCjAYIzZYrx",
        "colab": {
          "base_uri": "https://localhost:8080/"
        },
        "outputId": "d02aea95-87fa-4467-a254-86c1ff1332c1"
      },
      "outputs": [
        {
          "output_type": "stream",
          "name": "stdout",
          "text": [
            "Кол-во эпох: 10\n",
            "Кол-во шагов на эпоху: 184\n"
          ]
        }
      ],
      "source": [
        "num_train_epochs = 10\n",
        "num_update_steps_per_epoch = len(train_dataloader)\n",
        "num_training_steps = num_train_epochs * num_update_steps_per_epoch\n",
        "print('Кол-во эпох:', num_train_epochs)\n",
        "print('Кол-во шагов на эпоху:', num_update_steps_per_epoch)\n",
        "\n",
        "lr_scheduler = get_scheduler(\n",
        "    \"linear\",\n",
        "    optimizer=optimizer,\n",
        "    num_warmup_steps=0,\n",
        "    num_training_steps=num_training_steps,\n",
        ")"
      ]
    },
    {
      "cell_type": "code",
      "execution_count": null,
      "metadata": {
        "id": "jpeX435sZYrx"
      },
      "outputs": [],
      "source": [
        "model_name = \"distilbert_finetuned\"\n",
        "repo_name = get_full_repo_name(model_name)\n",
        "\n",
        "output_dir = \"distilbert_finetuned\"\n",
        "repo = Repository(output_dir, clone_from=repo_name)"
      ]
    },
    {
      "cell_type": "markdown",
      "source": [
        "Обучал модель вплоть до 40 эпох. Получить прироста метрики не удавалось."
      ],
      "metadata": {
        "id": "W92mbwW5jG75"
      }
    },
    {
      "cell_type": "code",
      "execution_count": null,
      "metadata": {
        "colab": {
          "base_uri": "https://localhost:8080/",
          "height": 223,
          "referenced_widgets": [
            "55cd5f5e87e14893abfdcddc606c9cf0",
            "ab1fc2c57dc444b18bc3d064e0cd8020",
            "7a5b50c103744014bf7900cb32803f1e",
            "f71601d38ccc47298d43eb8a7f86862b",
            "af0ce4255ffa47c0899dc0105af7d34e",
            "6944ad25aa5c469bbe8cc0b921c26ef5",
            "c2cf5275a01449709291d62165defe5c",
            "a0e6ddf25436410abe7866b547474895",
            "6eb8865b621b4d55b4b6fbe913a7e449",
            "4dc6fcdc298f4cf491a425876bdcd857",
            "e2785ceba6894c5b955420e4d5145373"
          ]
        },
        "id": "0LOTvUc9ZYrx",
        "outputId": "9723ea6e-cd32-4fa1-b395-58bf53fe8b97"
      },
      "outputs": [
        {
          "output_type": "display_data",
          "data": {
            "text/plain": [
              "  0%|          | 0/1840 [00:00<?, ?it/s]"
            ],
            "application/vnd.jupyter.widget-view+json": {
              "version_major": 2,
              "version_minor": 0,
              "model_id": "55cd5f5e87e14893abfdcddc606c9cf0"
            }
          },
          "metadata": {}
        },
        {
          "output_type": "stream",
          "name": "stdout",
          "text": [
            "epoch 0, metrics on eval: exact_match = 62.22 f1 = 77.65\n",
            "epoch 1, metrics on eval: exact_match = 66.94 f1 = 79.34\n",
            "epoch 2, metrics on eval: exact_match = 70.83 f1 = 81.32\n",
            "epoch 3, metrics on eval: exact_match = 71.11 f1 = 81.07\n",
            "epoch 4, metrics on eval: exact_match = 72.22 f1 = 81.53\n",
            "epoch 5, metrics on eval: exact_match = 72.5 f1 = 81.39\n",
            "epoch 6, metrics on eval: exact_match = 73.06 f1 = 81.78\n",
            "epoch 7, metrics on eval: exact_match = 73.33 f1 = 81.67\n",
            "epoch 8, metrics on eval: exact_match = 73.06 f1 = 81.54\n",
            "epoch 9, metrics on eval: exact_match = 72.78 f1 = 81.55\n"
          ]
        }
      ],
      "source": [
        "progress_bar = tqdm(range(num_training_steps))\n",
        "\n",
        "for epoch in range(num_train_epochs):\n",
        "    # Training\n",
        "    model.train()\n",
        "    for step, batch in enumerate(train_dataloader):\n",
        "        outputs = model(**batch)\n",
        "        loss = outputs.loss\n",
        "        accelerator.backward(loss)\n",
        "\n",
        "        optimizer.step()\n",
        "        lr_scheduler.step()\n",
        "        optimizer.zero_grad()\n",
        "        progress_bar.update(1)\n",
        "\n",
        "\n",
        "    # Evaluation\n",
        "    model.eval()\n",
        "    start_logits = []\n",
        "    end_logits = []\n",
        "    for batch in eval_dataloader:\n",
        "        with torch.no_grad():\n",
        "            outputs = model(**batch)\n",
        "\n",
        "        start_logits.append(accelerator.gather(outputs.start_logits).cpu().numpy())\n",
        "        end_logits.append(accelerator.gather(outputs.end_logits).cpu().numpy())\n",
        "\n",
        "    start_logits = np.concatenate(start_logits)\n",
        "    end_logits = np.concatenate(end_logits)\n",
        "    start_logits = start_logits[: len(validation_dataset)]\n",
        "    end_logits = end_logits[: len(validation_dataset)]\n",
        "\n",
        "    metrics = compute_metrics(\n",
        "        start_logits, end_logits, validation_dataset, dataset[\"test\"]\n",
        "    )\n",
        "    print(f\"epoch {epoch}, metrics on eval: exact_match = {round(metrics['exact_match'], 2)} f1 = {round(metrics['f1'], 2)}\")\n",
        "    \n",
        "    #Save and upload\n",
        "    accelerator.wait_for_everyone()\n",
        "    unwrapped_model = accelerator.unwrap_model(model)\n",
        "    unwrapped_model.save_pretrained(output_dir, save_function=accelerator.save)\n",
        "    if accelerator.is_main_process:\n",
        "        tokenizer.save_pretrained(output_dir)\n",
        "        repo.push_to_hub(\n",
        "            commit_message=f\"Training in progress epoch {epoch}, exact_match={round(metrics['exact_match'], 2)}\", blocking=False\n",
        "        )"
      ]
    },
    {
      "cell_type": "code",
      "execution_count": null,
      "metadata": {
        "id": "i8OoX6zGZYrx"
      },
      "outputs": [],
      "source": [
        "accelerator.wait_for_everyone()\n",
        "unwrapped_model = accelerator.unwrap_model(model)\n",
        "unwrapped_model.save_pretrained(output_dir, save_function=accelerator.save)"
      ]
    },
    {
      "cell_type": "markdown",
      "source": [
        "# Eval\n"
      ],
      "metadata": {
        "id": "MYqGy1uGScj9"
      }
    },
    {
      "cell_type": "markdown",
      "source": [
        "Посмотрим на ошибочные предсказания модели"
      ],
      "metadata": {
        "id": "G9X0d_ekk6wv"
      }
    },
    {
      "cell_type": "code",
      "source": [
        "tokenizer = AutoTokenizer.from_pretrained(\"GeorgeKhlestov/distilbert_finetuned\")\n",
        "model = AutoModelForQuestionAnswering.from_pretrained(\"GeorgeKhlestov/distilbert_finetuned\")"
      ],
      "metadata": {
        "id": "5pZN5CxD7km4"
      },
      "execution_count": null,
      "outputs": []
    },
    {
      "cell_type": "code",
      "source": [
        "args = TrainingArguments(\n",
        "    \"GeorgeKhlestov/distilbert_finetuned\",\n",
        "    learning_rate=2e-5,\n",
        "    num_train_epochs=3,\n",
        "    weight_decay=0.01,\n",
        "    fp16=True,\n",
        "    push_to_hub=False,\n",
        ")\n",
        "\n",
        "\n",
        "trainer = Trainer(\n",
        "    model=model,\n",
        "    args=args,\n",
        "    train_dataset=dataset['train'],\n",
        "    eval_dataset=dataset['test'],\n",
        "    tokenizer=tokenizer,\n",
        ")"
      ],
      "metadata": {
        "id": "-pNSU8TTUzjP"
      },
      "execution_count": 18,
      "outputs": []
    },
    {
      "cell_type": "code",
      "source": [
        "def postprocess_qa_predictions(examples, features, raw_predictions, n_best_size = 100, max_answer_length = 120):\n",
        "    \"\"\" Функция, которая преобразует предсказания модели в текст\n",
        "    Вход:\n",
        "        examples - датасет в исходном формате\n",
        "        featurs - предобработанный датасет\n",
        "        raw_predictions - выходы модели\n",
        "        n_best - кол-во кандидатов\n",
        "        max_answer_length - максимальная длинна ответа\n",
        "    Выход:\n",
        "        predictions : dict\"\"\"\n",
        "\n",
        "    all_start_logits, all_end_logits = raw_predictions\n",
        "    # Build a map example to its corresponding features.\n",
        "    \n",
        "    example_id_to_index = {k: i for i, k in enumerate(examples[\"id\"])}\n",
        "    \n",
        "    features_per_example = collections.defaultdict(list)\n",
        "    \n",
        "    for i, feature in enumerate(features):\n",
        "        features_per_example[example_id_to_index[feature[\"example_id\"]]].append(i)\n",
        "\n",
        "    # The dictionaries we have to fill.\n",
        "    predictions = collections.OrderedDict()\n",
        "\n",
        "    # Logging.\n",
        "    print(f\"Post-processing {len(examples)} example predictions split into {len(features)} features.\")\n",
        "\n",
        "    # Let's loop over all the examples!\n",
        "    for example_index, example in enumerate(tqdm(examples)):\n",
        "        # Those are the indices of the features associated to the current example.\n",
        "        feature_indices = features_per_example[example_index]\n",
        "\n",
        "        min_null_score = None # Only used if squad_v2 is True.\n",
        "        valid_answers = []\n",
        "        \n",
        "        context = example[\"text\"]\n",
        "        # Looping through all the features associated to the current example.\n",
        "        for feature_index in feature_indices:\n",
        "            # We grab the predictions of the model for this feature.\n",
        "            start_logits = all_start_logits[feature_index]\n",
        "            end_logits = all_end_logits[feature_index]\n",
        "            # This is what will allow us to map some the positions in our logits to span of texts in the original\n",
        "            # context.\n",
        "            offset_mapping = features[feature_index][\"offset_mapping\"]\n",
        "\n",
        "            # Update minimum null prediction.\n",
        "            cls_index = features[feature_index][\"input_ids\"].index(tokenizer.cls_token_id)\n",
        "            feature_null_score = start_logits[cls_index] + end_logits[cls_index]\n",
        "            if min_null_score is None or min_null_score < feature_null_score:\n",
        "                min_null_score = feature_null_score\n",
        "\n",
        "            # Go through all possibilities for the `n_best_size` greater start and end logits.\n",
        "            start_indexes = np.argsort(start_logits)[-1 : -n_best_size - 1 : -1].tolist()\n",
        "            end_indexes = np.argsort(end_logits)[-1 : -n_best_size - 1 : -1].tolist()\n",
        "            for start_index in start_indexes:\n",
        "                for end_index in end_indexes:\n",
        "                    # Don't consider out-of-scope answers, either because the indices are out of bounds or correspond\n",
        "                    # to part of the input_ids that are not in the context.\n",
        "                    if (\n",
        "                        start_index >= len(offset_mapping)\n",
        "                        or end_index >= len(offset_mapping)\n",
        "                        or offset_mapping[start_index] is None\n",
        "                        or offset_mapping[end_index] is None\n",
        "                    ):\n",
        "                        continue\n",
        "                    # Don't consider answers with a length that is either < 0 or > max_answer_length.\n",
        "                    if end_index < start_index or end_index - start_index + 1 > max_answer_length:\n",
        "                        continue\n",
        "\n",
        "                    start_char = offset_mapping[start_index][0]\n",
        "                    end_char = offset_mapping[end_index][1]\n",
        "                    valid_answers.append(\n",
        "                        {\n",
        "                            \"score\": start_logits[start_index] + end_logits[end_index],\n",
        "                            \"text\": context[start_char: end_char]\n",
        "                        }\n",
        "                    )\n",
        "        \n",
        "        if len(valid_answers) > 0:\n",
        "            best_answer = sorted(valid_answers, key=lambda x: x[\"score\"], reverse=True)[0]\n",
        "        else:\n",
        "            # In the very rare edge case we have not a single non-null prediction, we create a fake prediction to avoid\n",
        "            # failure.\n",
        "            best_answer = {\"text\": \"\", \"score\": 0.0}\n",
        "        \n",
        "        # Let's pick our final answer: the best one or the null answer (only for squad_v2)\n",
        "        answer = best_answer[\"text\"] if best_answer[\"score\"] > min_null_score else \"\"\n",
        "        predictions[example[\"id\"]] = answer\n",
        "\n",
        "    return predictions"
      ],
      "metadata": {
        "id": "yfKN6bozYSWB"
      },
      "execution_count": 19,
      "outputs": []
    },
    {
      "cell_type": "code",
      "source": [
        "raw_predictions = trainer.predict(validation_dataset)\n",
        "processed_predictions = postprocess_qa_predictions(dataset['test'], \n",
        "                                                   validation_dataset,\n",
        "                                                   raw_predictions.predictions,\n",
        "                                                   n_best_size=100,\n",
        "                                                   max_answer_length=120)"
      ],
      "metadata": {
        "colab": {
          "base_uri": "https://localhost:8080/",
          "height": 104,
          "referenced_widgets": [
            "5af6ebee48944577862dd19df6eb31be",
            "a6b1b7e47a3a481d8ecc9f9e5d4009c7",
            "09eded8b043f4f94bd7edce23ce4829f",
            "de45781afeec4cecbdc1a1b2e745556d",
            "ab1651ae905040a9a0bec4763029a519",
            "ea307b4743cd4c28ac21e70cd566ed44",
            "ce2d5549a5e54a82a94f23058d1540b5",
            "467e55cac2694bfaa0d1ec8e9fcfcb95",
            "8713f736e12d44b3b490bca4c194d93d",
            "149133a804e44fd4933c7def10197f1b",
            "c04fe7d366014cc7819d67f252c3064f"
          ]
        },
        "id": "fRuQsUm0lZAU",
        "outputId": "0558f1a4-6e46-4266-fc0a-881e8ecea566"
      },
      "execution_count": 20,
      "outputs": [
        {
          "output_type": "stream",
          "name": "stderr",
          "text": [
            "You're using a DistilBertTokenizerFast tokenizer. Please note that with a fast tokenizer, using the `__call__` method is faster than using a method to encode the text followed by a call to the `pad` method to get a padded encoding.\n"
          ]
        },
        {
          "output_type": "display_data",
          "data": {
            "text/plain": [
              "<IPython.core.display.HTML object>"
            ],
            "text/html": []
          },
          "metadata": {}
        },
        {
          "output_type": "stream",
          "name": "stdout",
          "text": [
            "Post-processing 360 example predictions split into 744 features.\n"
          ]
        },
        {
          "output_type": "display_data",
          "data": {
            "text/plain": [
              "  0%|          | 0/360 [00:00<?, ?it/s]"
            ],
            "application/vnd.jupyter.widget-view+json": {
              "version_major": 2,
              "version_minor": 0,
              "model_id": "5af6ebee48944577862dd19df6eb31be"
            }
          },
          "metadata": {}
        }
      ]
    },
    {
      "cell_type": "code",
      "source": [
        "def find_wrong(ground_truth, predicted):\n",
        "    wrong_answers = []\n",
        "\n",
        "    for real in ground_truth:\n",
        "        id = real['id']\n",
        "        real_extracted_text = real['extracted_part']['text'][0]\n",
        "        predicted_text = predicted[id]\n",
        "        if predicted_text != real_extracted_text:\n",
        "            wrong_answers.append({'real' : real_extracted_text,\n",
        "                                  'predicted' : predicted_text})\n",
        "    return wrong_answers"
      ],
      "metadata": {
        "id": "FgnuN-DVl0hj"
      },
      "execution_count": 21,
      "outputs": []
    },
    {
      "cell_type": "code",
      "source": [
        "wrong_answers = find_wrong(dataset['test'], processed_predictions)\n",
        "print('Общее кол-во неправильных ответов:', len(wrong_answers))\n",
        "print('Фактическое accuracy:', 1 - len(wrong_answers)/len(dataset['test']))"
      ],
      "metadata": {
        "colab": {
          "base_uri": "https://localhost:8080/"
        },
        "id": "rIkX8xy95VPz",
        "outputId": "8279c7fc-791c-4421-ef71-9fe0ad4f4f9d"
      },
      "execution_count": 22,
      "outputs": [
        {
          "output_type": "stream",
          "name": "stdout",
          "text": [
            "Общее кол-во неправильных ответов: 99\n",
            "Фактическое accuracy: 0.725\n"
          ]
        }
      ]
    },
    {
      "cell_type": "code",
      "source": [
        "num2show = (15, 25, 1) # start, stop, step\n",
        "\n",
        "for i in range(*num2show):\n",
        "    print('real:', wrong_answers[i]['real'])\n",
        "    print('predicted:', wrong_answers[i]['predicted'], '\\n')"
      ],
      "metadata": {
        "colab": {
          "base_uri": "https://localhost:8080/"
        },
        "id": "FKsMyM0f2-MG",
        "outputId": "7da8442f-8c2f-41c8-c14f-9f2ae07ca5c6"
      },
      "execution_count": 23,
      "outputs": [
        {
          "output_type": "stream",
          "name": "stdout",
          "text": [
            "real: если Заказчиком установлено требование обеспечения исполнения договора и/или обеспечения исполнения гарантийных обязательств.\n",
            "predicted: Обеспечение исполнения договора предусмотрено в размере 5% от начальной (максимальной) цены договора \n",
            "\n",
            "real: \n",
            "predicted: В \n",
            "\n",
            "real: Размер обеспечения исполнения договора не может превышать 5 (пять) процентов от цены договора\n",
            "predicted:  \n",
            "\n",
            "real: \n",
            "predicted: Из \n",
            "\n",
            "real: \n",
            "predicted: П \n",
            "\n",
            "real: Размер обеспечения гарантийных обязательств составляет 5% от цены Договора. Срок предоставления обеспечения гарантийных обязательств: до момента направления\n",
            "predicted: Размер обеспечения гарантийных обязательств составляет 5% от цены Договора. \n",
            "\n",
            "real: Размер обеспечения гарантийных обязательств составляет 0,01 % от начальной (максимальной) цены контракта указанной в извещении об осуществлении закупки\n",
            "predicted: Размер обеспечения гарантийных обязательств составляет 0,01 % от начальной (максимальной) цены контракта \n",
            "\n",
            "real: \n",
            "predicted: В \n",
            "\n",
            "real: \n",
            "predicted: Д \n",
            "\n",
            "real: Размер обеспечения гарантийных обязательств 1 % от начальной (максимальной) цены контракта\n",
            "predicted: Г \n",
            "\n"
          ]
        }
      ]
    },
    {
      "cell_type": "markdown",
      "source": [
        "Модель часто вместо пустого ответа предсказывает 1-5 бессмысленых символа. Будем считать, что в тексте нет нужной информации, если модель предсказывает меньше 10-ти символов(из EDA мы знаем, что непустой ответ минимальной длинны содержит примерно 5 токенов, а это точно больше чем 10 символов)\n",
        "\n"
      ],
      "metadata": {
        "id": "EmeZ7G7D36Xl"
      }
    },
    {
      "cell_type": "code",
      "source": [
        "zero_answer_trashold = 10\n",
        "\n",
        "for id in processed_predictions:\n",
        "    if len(processed_predictions[id]) < zero_answer_trashold:\n",
        "        processed_predictions[id] = ''"
      ],
      "metadata": {
        "id": "c5mdLGkT35Qo"
      },
      "execution_count": 24,
      "outputs": []
    },
    {
      "cell_type": "code",
      "source": [
        "wrong_answers = find_wrong(dataset['test'], processed_predictions)\n",
        "print('Общее кол-во неправильных ответов:', len(wrong_answers))\n",
        "print('Фактическое accuracy:', 1 - len(wrong_answers)/len(dataset['test']))"
      ],
      "metadata": {
        "colab": {
          "base_uri": "https://localhost:8080/"
        },
        "id": "kW-5_7ZI6ZSy",
        "outputId": "f608a76f-1005-4381-8e38-b6b7d6d4bdbe"
      },
      "execution_count": 25,
      "outputs": [
        {
          "output_type": "stream",
          "name": "stdout",
          "text": [
            "Общее кол-во неправильных ответов: 61\n",
            "Фактическое accuracy: 0.8305555555555555\n"
          ]
        }
      ]
    },
    {
      "cell_type": "code",
      "source": [
        "num2show = (30, 40, 1) # start, stop, step\n",
        "\n",
        "for i in range(*num2show):\n",
        "    print('real:', wrong_answers[i]['real'])\n",
        "    print('predicted:', wrong_answers[i]['predicted'], '\\n')"
      ],
      "metadata": {
        "id": "TTWKnEUy678h",
        "colab": {
          "base_uri": "https://localhost:8080/"
        },
        "outputId": "0266b2d9-b067-439b-e7d8-f52cc6bbcd8e"
      },
      "execution_count": 27,
      "outputs": [
        {
          "output_type": "stream",
          "name": "stdout",
          "text": [
            "real: такое лицо предоставляет обеспечение исполнения договора в размере 7,5 % от НМЦ.\n",
            "predicted: если лицом, с которым заключается договор, предложена цена договора (с учетом всех переторжек), которая на 25% и более, ниже НМЦ, такое лицо предоставляет обеспечение исполнения договора в размере 7,5 % от НМЦ. \n",
            "\n",
            "real: Размер обеспечения исполнения договора: 5% от начальной (максимальной) цены договора\n",
            "predicted: Размер обеспечения исполнения договора: 5% от начальной (максимальной) цены договора, НДС не облагается. \n",
            "\n",
            "real: Размер обеспечения гарантийных обязательств, порядок предоставления такого обеспечения, требования к такому обеспечению 0,9 % от начальной (максимальной) цены контракта, что составляет 9 487,50 руб.\n",
            "predicted:  \n",
            "\n",
            "real: Размер обеспечения гарантийных обязательств: установлен. Размер обеспечения гарантийных обязательств составляет 1% от цены Договора.\n",
            "predicted: Размер обеспечения гарантийных обязательств составляет 1% от цены Договора. \n",
            "\n",
            "real: Устанавливается требование обеспечения исполнения Договора на участие в запросе котировок в размере - 5%- 17 416,70 (семнадцать тысяч четыреста шестнадцать) рублей\n",
            "predicted:  \n",
            "\n",
            "real: Требование к обеспечению гарантийных обязательств - 1 % от цены контракта, по которой будет заключаться контракт по итогам электронного аукциона.\n",
            "predicted:  \n",
            "\n",
            "real: Обеспечение исполнения настоящего договора предоставляется поставщиком в размере: 3% начальной (максимальной) цены договора на сумму 5 826,80\n",
            "predicted: Обеспечение исполнения настоящего договора предоставляется поставщиком в размере: 3% начальной (максимальной) цены договора \n",
            "\n",
            "real: Устанавливается Размер обеспечения исполнения гарантийных обязательств: 5 % от начальной (максимальной) цены договора\n",
            "predicted:  \n",
            "\n",
            "real: Размер обеспечения исполнения обязательств Участника в гарантийный период составляет не менее 5 (пяти) процентов от цены сделки - для сделок с ценой не более 100 млн рублей\n",
            "predicted: Размер обеспечения исполнения обязательств Участника в гарантийный период составляет не менее 5 (пяти) процентов от цены сделки \n",
            "\n",
            "real: Размер обеспечения исполнения Договора составляет 5%: Проценты на сумму обеспечительного платежа не начисляются.\n",
            "predicted:  \n",
            "\n"
          ]
        }
      ]
    },
    {
      "cell_type": "markdown",
      "source": [
        "Условно ошибки модель можно разделить на три вида:  \n",
        "- предсказание пустого ответа  \n",
        "- предсказание неправильного фрагмента  \n",
        "- предсказания частично правильного ответа  \n",
        "  \n",
        "С последними двумя ошибками лучше всего поможет справиться более качественная разметка."
      ],
      "metadata": {
        "id": "EBrNHSl381qA"
      }
    },
    {
      "cell_type": "markdown",
      "source": [
        "# Submit"
      ],
      "metadata": {
        "id": "tReWxyKEvm4j"
      }
    },
    {
      "cell_type": "code",
      "source": [
        "# Загружаем тестовый датасет\n",
        "test = load_dataset('json', data_files=PATH + '/test.json')['train']\n",
        "\n",
        "test_dataset =  test.map(\n",
        "    preprocess_validation_examples,\n",
        "    batched=True,\n",
        "    remove_columns= test.column_names,\n",
        ")"
      ],
      "metadata": {
        "id": "f38OXpYlkinC"
      },
      "execution_count": null,
      "outputs": []
    },
    {
      "cell_type": "code",
      "source": [
        "# Делаем предсказания\n",
        "raw_predictions = trainer.predict(test_dataset)\n",
        "processed_predictions = postprocess_qa_predictions(test, \n",
        "                                                   test_dataset,\n",
        "                                                   raw_predictions.predictions,\n",
        "                                                   n_best_size=100,\n",
        "                                                   max_answer_length=120)"
      ],
      "metadata": {
        "id": "z7iu3b7TwvlJ"
      },
      "execution_count": null,
      "outputs": []
    },
    {
      "cell_type": "code",
      "source": [
        "# Выбрасываем короткие предсказания\n",
        "for id in processed_predictions:\n",
        "    if len(processed_predictions[id]) < zero_answer_trashold:\n",
        "        processed_predictions[id] = ''"
      ],
      "metadata": {
        "id": "N5Kscuxryx3d"
      },
      "execution_count": 33,
      "outputs": []
    },
    {
      "cell_type": "code",
      "source": [
        "# Загружаем данные в более удобном формате\n",
        "with open(PATH + '/test.json', 'r') as f:\n",
        "    test = json.load(f)\n",
        "\n",
        "\n",
        "# Записываем предсказания\n",
        "for sample in range(len(test)):\n",
        "    id = test[sample]['id']\n",
        "    predicted_text = processed_predictions[id]\n",
        "    if predicted_text in test[sample]['text'] and predicted_text != '':\n",
        "        test[sample]['extracted_part'] = {'text' : [processed_predictions[id]],\n",
        "                                          'answer_start' : [test[sample]['text'].find(predicted_text)],\n",
        "                                          'answer_end' : [test[sample]['text'].find(predicted_text) + len(predicted_text)]}\n",
        "    else:\n",
        "        test[sample]['extracted_part'] = {'text' : [''],\n",
        "                                          'answer_start' : [0],\n",
        "                                          'answer_end' : [0]}"
      ],
      "metadata": {
        "id": "chjM9VupxZ5m"
      },
      "execution_count": 48,
      "outputs": []
    },
    {
      "cell_type": "code",
      "source": [
        "# Сохраняем предсказания\n",
        "final = json.dumps(test, indent=2)\n",
        "\n",
        "with open(\"predictions.json\", \"w\") as final:\n",
        "    json.dump(test, final)"
      ],
      "metadata": {
        "id": "vZOJ7EaK_OfF"
      },
      "execution_count": 45,
      "outputs": []
    }
  ],
  "metadata": {
    "accelerator": "GPU",
    "colab": {
      "provenance": [],
      "gpuType": "T4"
    },
    "gpuClass": "standard",
    "kernelspec": {
      "display_name": "Python 3",
      "name": "python3"
    },
    "language_info": {
      "name": "python"
    },
    "widgets": {
      "application/vnd.jupyter.widget-state+json": {
        "55cd5f5e87e14893abfdcddc606c9cf0": {
          "model_module": "@jupyter-widgets/controls",
          "model_name": "HBoxModel",
          "model_module_version": "1.5.0",
          "state": {
            "_dom_classes": [],
            "_model_module": "@jupyter-widgets/controls",
            "_model_module_version": "1.5.0",
            "_model_name": "HBoxModel",
            "_view_count": null,
            "_view_module": "@jupyter-widgets/controls",
            "_view_module_version": "1.5.0",
            "_view_name": "HBoxView",
            "box_style": "",
            "children": [
              "IPY_MODEL_ab1fc2c57dc444b18bc3d064e0cd8020",
              "IPY_MODEL_7a5b50c103744014bf7900cb32803f1e",
              "IPY_MODEL_f71601d38ccc47298d43eb8a7f86862b"
            ],
            "layout": "IPY_MODEL_af0ce4255ffa47c0899dc0105af7d34e"
          }
        },
        "ab1fc2c57dc444b18bc3d064e0cd8020": {
          "model_module": "@jupyter-widgets/controls",
          "model_name": "HTMLModel",
          "model_module_version": "1.5.0",
          "state": {
            "_dom_classes": [],
            "_model_module": "@jupyter-widgets/controls",
            "_model_module_version": "1.5.0",
            "_model_name": "HTMLModel",
            "_view_count": null,
            "_view_module": "@jupyter-widgets/controls",
            "_view_module_version": "1.5.0",
            "_view_name": "HTMLView",
            "description": "",
            "description_tooltip": null,
            "layout": "IPY_MODEL_6944ad25aa5c469bbe8cc0b921c26ef5",
            "placeholder": "​",
            "style": "IPY_MODEL_c2cf5275a01449709291d62165defe5c",
            "value": "100%"
          }
        },
        "7a5b50c103744014bf7900cb32803f1e": {
          "model_module": "@jupyter-widgets/controls",
          "model_name": "FloatProgressModel",
          "model_module_version": "1.5.0",
          "state": {
            "_dom_classes": [],
            "_model_module": "@jupyter-widgets/controls",
            "_model_module_version": "1.5.0",
            "_model_name": "FloatProgressModel",
            "_view_count": null,
            "_view_module": "@jupyter-widgets/controls",
            "_view_module_version": "1.5.0",
            "_view_name": "ProgressView",
            "bar_style": "",
            "description": "",
            "description_tooltip": null,
            "layout": "IPY_MODEL_a0e6ddf25436410abe7866b547474895",
            "max": 1840,
            "min": 0,
            "orientation": "horizontal",
            "style": "IPY_MODEL_6eb8865b621b4d55b4b6fbe913a7e449",
            "value": 1840
          }
        },
        "f71601d38ccc47298d43eb8a7f86862b": {
          "model_module": "@jupyter-widgets/controls",
          "model_name": "HTMLModel",
          "model_module_version": "1.5.0",
          "state": {
            "_dom_classes": [],
            "_model_module": "@jupyter-widgets/controls",
            "_model_module_version": "1.5.0",
            "_model_name": "HTMLModel",
            "_view_count": null,
            "_view_module": "@jupyter-widgets/controls",
            "_view_module_version": "1.5.0",
            "_view_name": "HTMLView",
            "description": "",
            "description_tooltip": null,
            "layout": "IPY_MODEL_4dc6fcdc298f4cf491a425876bdcd857",
            "placeholder": "​",
            "style": "IPY_MODEL_e2785ceba6894c5b955420e4d5145373",
            "value": " 1840/1840 [34:04&lt;00:00,  1.26it/s]"
          }
        },
        "af0ce4255ffa47c0899dc0105af7d34e": {
          "model_module": "@jupyter-widgets/base",
          "model_name": "LayoutModel",
          "model_module_version": "1.2.0",
          "state": {
            "_model_module": "@jupyter-widgets/base",
            "_model_module_version": "1.2.0",
            "_model_name": "LayoutModel",
            "_view_count": null,
            "_view_module": "@jupyter-widgets/base",
            "_view_module_version": "1.2.0",
            "_view_name": "LayoutView",
            "align_content": null,
            "align_items": null,
            "align_self": null,
            "border": null,
            "bottom": null,
            "display": null,
            "flex": null,
            "flex_flow": null,
            "grid_area": null,
            "grid_auto_columns": null,
            "grid_auto_flow": null,
            "grid_auto_rows": null,
            "grid_column": null,
            "grid_gap": null,
            "grid_row": null,
            "grid_template_areas": null,
            "grid_template_columns": null,
            "grid_template_rows": null,
            "height": null,
            "justify_content": null,
            "justify_items": null,
            "left": null,
            "margin": null,
            "max_height": null,
            "max_width": null,
            "min_height": null,
            "min_width": null,
            "object_fit": null,
            "object_position": null,
            "order": null,
            "overflow": null,
            "overflow_x": null,
            "overflow_y": null,
            "padding": null,
            "right": null,
            "top": null,
            "visibility": null,
            "width": null
          }
        },
        "6944ad25aa5c469bbe8cc0b921c26ef5": {
          "model_module": "@jupyter-widgets/base",
          "model_name": "LayoutModel",
          "model_module_version": "1.2.0",
          "state": {
            "_model_module": "@jupyter-widgets/base",
            "_model_module_version": "1.2.0",
            "_model_name": "LayoutModel",
            "_view_count": null,
            "_view_module": "@jupyter-widgets/base",
            "_view_module_version": "1.2.0",
            "_view_name": "LayoutView",
            "align_content": null,
            "align_items": null,
            "align_self": null,
            "border": null,
            "bottom": null,
            "display": null,
            "flex": null,
            "flex_flow": null,
            "grid_area": null,
            "grid_auto_columns": null,
            "grid_auto_flow": null,
            "grid_auto_rows": null,
            "grid_column": null,
            "grid_gap": null,
            "grid_row": null,
            "grid_template_areas": null,
            "grid_template_columns": null,
            "grid_template_rows": null,
            "height": null,
            "justify_content": null,
            "justify_items": null,
            "left": null,
            "margin": null,
            "max_height": null,
            "max_width": null,
            "min_height": null,
            "min_width": null,
            "object_fit": null,
            "object_position": null,
            "order": null,
            "overflow": null,
            "overflow_x": null,
            "overflow_y": null,
            "padding": null,
            "right": null,
            "top": null,
            "visibility": null,
            "width": null
          }
        },
        "c2cf5275a01449709291d62165defe5c": {
          "model_module": "@jupyter-widgets/controls",
          "model_name": "DescriptionStyleModel",
          "model_module_version": "1.5.0",
          "state": {
            "_model_module": "@jupyter-widgets/controls",
            "_model_module_version": "1.5.0",
            "_model_name": "DescriptionStyleModel",
            "_view_count": null,
            "_view_module": "@jupyter-widgets/base",
            "_view_module_version": "1.2.0",
            "_view_name": "StyleView",
            "description_width": ""
          }
        },
        "a0e6ddf25436410abe7866b547474895": {
          "model_module": "@jupyter-widgets/base",
          "model_name": "LayoutModel",
          "model_module_version": "1.2.0",
          "state": {
            "_model_module": "@jupyter-widgets/base",
            "_model_module_version": "1.2.0",
            "_model_name": "LayoutModel",
            "_view_count": null,
            "_view_module": "@jupyter-widgets/base",
            "_view_module_version": "1.2.0",
            "_view_name": "LayoutView",
            "align_content": null,
            "align_items": null,
            "align_self": null,
            "border": null,
            "bottom": null,
            "display": null,
            "flex": null,
            "flex_flow": null,
            "grid_area": null,
            "grid_auto_columns": null,
            "grid_auto_flow": null,
            "grid_auto_rows": null,
            "grid_column": null,
            "grid_gap": null,
            "grid_row": null,
            "grid_template_areas": null,
            "grid_template_columns": null,
            "grid_template_rows": null,
            "height": null,
            "justify_content": null,
            "justify_items": null,
            "left": null,
            "margin": null,
            "max_height": null,
            "max_width": null,
            "min_height": null,
            "min_width": null,
            "object_fit": null,
            "object_position": null,
            "order": null,
            "overflow": null,
            "overflow_x": null,
            "overflow_y": null,
            "padding": null,
            "right": null,
            "top": null,
            "visibility": null,
            "width": null
          }
        },
        "6eb8865b621b4d55b4b6fbe913a7e449": {
          "model_module": "@jupyter-widgets/controls",
          "model_name": "ProgressStyleModel",
          "model_module_version": "1.5.0",
          "state": {
            "_model_module": "@jupyter-widgets/controls",
            "_model_module_version": "1.5.0",
            "_model_name": "ProgressStyleModel",
            "_view_count": null,
            "_view_module": "@jupyter-widgets/base",
            "_view_module_version": "1.2.0",
            "_view_name": "StyleView",
            "bar_color": null,
            "description_width": ""
          }
        },
        "4dc6fcdc298f4cf491a425876bdcd857": {
          "model_module": "@jupyter-widgets/base",
          "model_name": "LayoutModel",
          "model_module_version": "1.2.0",
          "state": {
            "_model_module": "@jupyter-widgets/base",
            "_model_module_version": "1.2.0",
            "_model_name": "LayoutModel",
            "_view_count": null,
            "_view_module": "@jupyter-widgets/base",
            "_view_module_version": "1.2.0",
            "_view_name": "LayoutView",
            "align_content": null,
            "align_items": null,
            "align_self": null,
            "border": null,
            "bottom": null,
            "display": null,
            "flex": null,
            "flex_flow": null,
            "grid_area": null,
            "grid_auto_columns": null,
            "grid_auto_flow": null,
            "grid_auto_rows": null,
            "grid_column": null,
            "grid_gap": null,
            "grid_row": null,
            "grid_template_areas": null,
            "grid_template_columns": null,
            "grid_template_rows": null,
            "height": null,
            "justify_content": null,
            "justify_items": null,
            "left": null,
            "margin": null,
            "max_height": null,
            "max_width": null,
            "min_height": null,
            "min_width": null,
            "object_fit": null,
            "object_position": null,
            "order": null,
            "overflow": null,
            "overflow_x": null,
            "overflow_y": null,
            "padding": null,
            "right": null,
            "top": null,
            "visibility": null,
            "width": null
          }
        },
        "e2785ceba6894c5b955420e4d5145373": {
          "model_module": "@jupyter-widgets/controls",
          "model_name": "DescriptionStyleModel",
          "model_module_version": "1.5.0",
          "state": {
            "_model_module": "@jupyter-widgets/controls",
            "_model_module_version": "1.5.0",
            "_model_name": "DescriptionStyleModel",
            "_view_count": null,
            "_view_module": "@jupyter-widgets/base",
            "_view_module_version": "1.2.0",
            "_view_name": "StyleView",
            "description_width": ""
          }
        },
        "35d936c3849f4b7c9c1946b9ab3e4ecc": {
          "model_module": "@jupyter-widgets/controls",
          "model_name": "VBoxModel",
          "model_module_version": "1.5.0",
          "state": {
            "_dom_classes": [],
            "_model_module": "@jupyter-widgets/controls",
            "_model_module_version": "1.5.0",
            "_model_name": "VBoxModel",
            "_view_count": null,
            "_view_module": "@jupyter-widgets/controls",
            "_view_module_version": "1.5.0",
            "_view_name": "VBoxView",
            "box_style": "",
            "children": [
              "IPY_MODEL_5f5a98dde93a47b2b889163912ae5514",
              "IPY_MODEL_0f7410f36ef746a99580bed6a8b80138",
              "IPY_MODEL_16fa9e857076447499d1be26caa8faed",
              "IPY_MODEL_9d29d4e2e3944669869bf3306f5b0a44",
              "IPY_MODEL_fd683c3ab1a4424e9c9242eef29dc70a"
            ],
            "layout": "IPY_MODEL_6658524562c1479ebe38300ded7fed66"
          }
        },
        "5f5a98dde93a47b2b889163912ae5514": {
          "model_module": "@jupyter-widgets/controls",
          "model_name": "HTMLModel",
          "model_module_version": "1.5.0",
          "state": {
            "_dom_classes": [],
            "_model_module": "@jupyter-widgets/controls",
            "_model_module_version": "1.5.0",
            "_model_name": "HTMLModel",
            "_view_count": null,
            "_view_module": "@jupyter-widgets/controls",
            "_view_module_version": "1.5.0",
            "_view_name": "HTMLView",
            "description": "",
            "description_tooltip": null,
            "layout": "IPY_MODEL_6232be71de0947a3a32c271b91b4633e",
            "placeholder": "​",
            "style": "IPY_MODEL_374e1881637045c1adb1d9e66a793bf0",
            "value": "<center> <img\nsrc=https://huggingface.co/front/assets/huggingface_logo-noborder.svg\nalt='Hugging Face'> <br> Copy a token from <a\nhref=\"https://huggingface.co/settings/tokens\" target=\"_blank\">your Hugging Face\ntokens page</a> and paste it below. <br> Immediately click login after copying\nyour token or it might be stored in plain text in this notebook file. </center>"
          }
        },
        "0f7410f36ef746a99580bed6a8b80138": {
          "model_module": "@jupyter-widgets/controls",
          "model_name": "PasswordModel",
          "model_module_version": "1.5.0",
          "state": {
            "_dom_classes": [],
            "_model_module": "@jupyter-widgets/controls",
            "_model_module_version": "1.5.0",
            "_model_name": "PasswordModel",
            "_view_count": null,
            "_view_module": "@jupyter-widgets/controls",
            "_view_module_version": "1.5.0",
            "_view_name": "PasswordView",
            "continuous_update": true,
            "description": "Token:",
            "description_tooltip": null,
            "disabled": false,
            "layout": "IPY_MODEL_db37def25d234195ad66a39aa89ceebd",
            "placeholder": "​",
            "style": "IPY_MODEL_c9b9e87b64344401af47303c7bcd7727",
            "value": ""
          }
        },
        "16fa9e857076447499d1be26caa8faed": {
          "model_module": "@jupyter-widgets/controls",
          "model_name": "CheckboxModel",
          "model_module_version": "1.5.0",
          "state": {
            "_dom_classes": [],
            "_model_module": "@jupyter-widgets/controls",
            "_model_module_version": "1.5.0",
            "_model_name": "CheckboxModel",
            "_view_count": null,
            "_view_module": "@jupyter-widgets/controls",
            "_view_module_version": "1.5.0",
            "_view_name": "CheckboxView",
            "description": "Add token as git credential?",
            "description_tooltip": null,
            "disabled": false,
            "indent": true,
            "layout": "IPY_MODEL_a892cb5e546b4654929fcf0c7455347e",
            "style": "IPY_MODEL_035651dc26f84082b58c072765553537",
            "value": true
          }
        },
        "9d29d4e2e3944669869bf3306f5b0a44": {
          "model_module": "@jupyter-widgets/controls",
          "model_name": "ButtonModel",
          "model_module_version": "1.5.0",
          "state": {
            "_dom_classes": [],
            "_model_module": "@jupyter-widgets/controls",
            "_model_module_version": "1.5.0",
            "_model_name": "ButtonModel",
            "_view_count": null,
            "_view_module": "@jupyter-widgets/controls",
            "_view_module_version": "1.5.0",
            "_view_name": "ButtonView",
            "button_style": "",
            "description": "Login",
            "disabled": false,
            "icon": "",
            "layout": "IPY_MODEL_a8db55606c524fecb38def033ae858ac",
            "style": "IPY_MODEL_12a9802538654fcd8cdf6525d88b662e",
            "tooltip": ""
          }
        },
        "fd683c3ab1a4424e9c9242eef29dc70a": {
          "model_module": "@jupyter-widgets/controls",
          "model_name": "HTMLModel",
          "model_module_version": "1.5.0",
          "state": {
            "_dom_classes": [],
            "_model_module": "@jupyter-widgets/controls",
            "_model_module_version": "1.5.0",
            "_model_name": "HTMLModel",
            "_view_count": null,
            "_view_module": "@jupyter-widgets/controls",
            "_view_module_version": "1.5.0",
            "_view_name": "HTMLView",
            "description": "",
            "description_tooltip": null,
            "layout": "IPY_MODEL_ba018c5eebc24b5fbcd0af31e0677b51",
            "placeholder": "​",
            "style": "IPY_MODEL_706943ca3c5f427591dfa6cfff5e2aaf",
            "value": "\n<b>Pro Tip:</b> If you don't already have one, you can create a dedicated\n'notebooks' token with 'write' access, that you can then easily reuse for all\nnotebooks. </center>"
          }
        },
        "6658524562c1479ebe38300ded7fed66": {
          "model_module": "@jupyter-widgets/base",
          "model_name": "LayoutModel",
          "model_module_version": "1.2.0",
          "state": {
            "_model_module": "@jupyter-widgets/base",
            "_model_module_version": "1.2.0",
            "_model_name": "LayoutModel",
            "_view_count": null,
            "_view_module": "@jupyter-widgets/base",
            "_view_module_version": "1.2.0",
            "_view_name": "LayoutView",
            "align_content": null,
            "align_items": "center",
            "align_self": null,
            "border": null,
            "bottom": null,
            "display": "flex",
            "flex": null,
            "flex_flow": "column",
            "grid_area": null,
            "grid_auto_columns": null,
            "grid_auto_flow": null,
            "grid_auto_rows": null,
            "grid_column": null,
            "grid_gap": null,
            "grid_row": null,
            "grid_template_areas": null,
            "grid_template_columns": null,
            "grid_template_rows": null,
            "height": null,
            "justify_content": null,
            "justify_items": null,
            "left": null,
            "margin": null,
            "max_height": null,
            "max_width": null,
            "min_height": null,
            "min_width": null,
            "object_fit": null,
            "object_position": null,
            "order": null,
            "overflow": null,
            "overflow_x": null,
            "overflow_y": null,
            "padding": null,
            "right": null,
            "top": null,
            "visibility": null,
            "width": "50%"
          }
        },
        "6232be71de0947a3a32c271b91b4633e": {
          "model_module": "@jupyter-widgets/base",
          "model_name": "LayoutModel",
          "model_module_version": "1.2.0",
          "state": {
            "_model_module": "@jupyter-widgets/base",
            "_model_module_version": "1.2.0",
            "_model_name": "LayoutModel",
            "_view_count": null,
            "_view_module": "@jupyter-widgets/base",
            "_view_module_version": "1.2.0",
            "_view_name": "LayoutView",
            "align_content": null,
            "align_items": null,
            "align_self": null,
            "border": null,
            "bottom": null,
            "display": null,
            "flex": null,
            "flex_flow": null,
            "grid_area": null,
            "grid_auto_columns": null,
            "grid_auto_flow": null,
            "grid_auto_rows": null,
            "grid_column": null,
            "grid_gap": null,
            "grid_row": null,
            "grid_template_areas": null,
            "grid_template_columns": null,
            "grid_template_rows": null,
            "height": null,
            "justify_content": null,
            "justify_items": null,
            "left": null,
            "margin": null,
            "max_height": null,
            "max_width": null,
            "min_height": null,
            "min_width": null,
            "object_fit": null,
            "object_position": null,
            "order": null,
            "overflow": null,
            "overflow_x": null,
            "overflow_y": null,
            "padding": null,
            "right": null,
            "top": null,
            "visibility": null,
            "width": null
          }
        },
        "374e1881637045c1adb1d9e66a793bf0": {
          "model_module": "@jupyter-widgets/controls",
          "model_name": "DescriptionStyleModel",
          "model_module_version": "1.5.0",
          "state": {
            "_model_module": "@jupyter-widgets/controls",
            "_model_module_version": "1.5.0",
            "_model_name": "DescriptionStyleModel",
            "_view_count": null,
            "_view_module": "@jupyter-widgets/base",
            "_view_module_version": "1.2.0",
            "_view_name": "StyleView",
            "description_width": ""
          }
        },
        "db37def25d234195ad66a39aa89ceebd": {
          "model_module": "@jupyter-widgets/base",
          "model_name": "LayoutModel",
          "model_module_version": "1.2.0",
          "state": {
            "_model_module": "@jupyter-widgets/base",
            "_model_module_version": "1.2.0",
            "_model_name": "LayoutModel",
            "_view_count": null,
            "_view_module": "@jupyter-widgets/base",
            "_view_module_version": "1.2.0",
            "_view_name": "LayoutView",
            "align_content": null,
            "align_items": null,
            "align_self": null,
            "border": null,
            "bottom": null,
            "display": null,
            "flex": null,
            "flex_flow": null,
            "grid_area": null,
            "grid_auto_columns": null,
            "grid_auto_flow": null,
            "grid_auto_rows": null,
            "grid_column": null,
            "grid_gap": null,
            "grid_row": null,
            "grid_template_areas": null,
            "grid_template_columns": null,
            "grid_template_rows": null,
            "height": null,
            "justify_content": null,
            "justify_items": null,
            "left": null,
            "margin": null,
            "max_height": null,
            "max_width": null,
            "min_height": null,
            "min_width": null,
            "object_fit": null,
            "object_position": null,
            "order": null,
            "overflow": null,
            "overflow_x": null,
            "overflow_y": null,
            "padding": null,
            "right": null,
            "top": null,
            "visibility": null,
            "width": null
          }
        },
        "c9b9e87b64344401af47303c7bcd7727": {
          "model_module": "@jupyter-widgets/controls",
          "model_name": "DescriptionStyleModel",
          "model_module_version": "1.5.0",
          "state": {
            "_model_module": "@jupyter-widgets/controls",
            "_model_module_version": "1.5.0",
            "_model_name": "DescriptionStyleModel",
            "_view_count": null,
            "_view_module": "@jupyter-widgets/base",
            "_view_module_version": "1.2.0",
            "_view_name": "StyleView",
            "description_width": ""
          }
        },
        "a892cb5e546b4654929fcf0c7455347e": {
          "model_module": "@jupyter-widgets/base",
          "model_name": "LayoutModel",
          "model_module_version": "1.2.0",
          "state": {
            "_model_module": "@jupyter-widgets/base",
            "_model_module_version": "1.2.0",
            "_model_name": "LayoutModel",
            "_view_count": null,
            "_view_module": "@jupyter-widgets/base",
            "_view_module_version": "1.2.0",
            "_view_name": "LayoutView",
            "align_content": null,
            "align_items": null,
            "align_self": null,
            "border": null,
            "bottom": null,
            "display": null,
            "flex": null,
            "flex_flow": null,
            "grid_area": null,
            "grid_auto_columns": null,
            "grid_auto_flow": null,
            "grid_auto_rows": null,
            "grid_column": null,
            "grid_gap": null,
            "grid_row": null,
            "grid_template_areas": null,
            "grid_template_columns": null,
            "grid_template_rows": null,
            "height": null,
            "justify_content": null,
            "justify_items": null,
            "left": null,
            "margin": null,
            "max_height": null,
            "max_width": null,
            "min_height": null,
            "min_width": null,
            "object_fit": null,
            "object_position": null,
            "order": null,
            "overflow": null,
            "overflow_x": null,
            "overflow_y": null,
            "padding": null,
            "right": null,
            "top": null,
            "visibility": null,
            "width": null
          }
        },
        "035651dc26f84082b58c072765553537": {
          "model_module": "@jupyter-widgets/controls",
          "model_name": "DescriptionStyleModel",
          "model_module_version": "1.5.0",
          "state": {
            "_model_module": "@jupyter-widgets/controls",
            "_model_module_version": "1.5.0",
            "_model_name": "DescriptionStyleModel",
            "_view_count": null,
            "_view_module": "@jupyter-widgets/base",
            "_view_module_version": "1.2.0",
            "_view_name": "StyleView",
            "description_width": ""
          }
        },
        "a8db55606c524fecb38def033ae858ac": {
          "model_module": "@jupyter-widgets/base",
          "model_name": "LayoutModel",
          "model_module_version": "1.2.0",
          "state": {
            "_model_module": "@jupyter-widgets/base",
            "_model_module_version": "1.2.0",
            "_model_name": "LayoutModel",
            "_view_count": null,
            "_view_module": "@jupyter-widgets/base",
            "_view_module_version": "1.2.0",
            "_view_name": "LayoutView",
            "align_content": null,
            "align_items": null,
            "align_self": null,
            "border": null,
            "bottom": null,
            "display": null,
            "flex": null,
            "flex_flow": null,
            "grid_area": null,
            "grid_auto_columns": null,
            "grid_auto_flow": null,
            "grid_auto_rows": null,
            "grid_column": null,
            "grid_gap": null,
            "grid_row": null,
            "grid_template_areas": null,
            "grid_template_columns": null,
            "grid_template_rows": null,
            "height": null,
            "justify_content": null,
            "justify_items": null,
            "left": null,
            "margin": null,
            "max_height": null,
            "max_width": null,
            "min_height": null,
            "min_width": null,
            "object_fit": null,
            "object_position": null,
            "order": null,
            "overflow": null,
            "overflow_x": null,
            "overflow_y": null,
            "padding": null,
            "right": null,
            "top": null,
            "visibility": null,
            "width": null
          }
        },
        "12a9802538654fcd8cdf6525d88b662e": {
          "model_module": "@jupyter-widgets/controls",
          "model_name": "ButtonStyleModel",
          "model_module_version": "1.5.0",
          "state": {
            "_model_module": "@jupyter-widgets/controls",
            "_model_module_version": "1.5.0",
            "_model_name": "ButtonStyleModel",
            "_view_count": null,
            "_view_module": "@jupyter-widgets/base",
            "_view_module_version": "1.2.0",
            "_view_name": "StyleView",
            "button_color": null,
            "font_weight": ""
          }
        },
        "ba018c5eebc24b5fbcd0af31e0677b51": {
          "model_module": "@jupyter-widgets/base",
          "model_name": "LayoutModel",
          "model_module_version": "1.2.0",
          "state": {
            "_model_module": "@jupyter-widgets/base",
            "_model_module_version": "1.2.0",
            "_model_name": "LayoutModel",
            "_view_count": null,
            "_view_module": "@jupyter-widgets/base",
            "_view_module_version": "1.2.0",
            "_view_name": "LayoutView",
            "align_content": null,
            "align_items": null,
            "align_self": null,
            "border": null,
            "bottom": null,
            "display": null,
            "flex": null,
            "flex_flow": null,
            "grid_area": null,
            "grid_auto_columns": null,
            "grid_auto_flow": null,
            "grid_auto_rows": null,
            "grid_column": null,
            "grid_gap": null,
            "grid_row": null,
            "grid_template_areas": null,
            "grid_template_columns": null,
            "grid_template_rows": null,
            "height": null,
            "justify_content": null,
            "justify_items": null,
            "left": null,
            "margin": null,
            "max_height": null,
            "max_width": null,
            "min_height": null,
            "min_width": null,
            "object_fit": null,
            "object_position": null,
            "order": null,
            "overflow": null,
            "overflow_x": null,
            "overflow_y": null,
            "padding": null,
            "right": null,
            "top": null,
            "visibility": null,
            "width": null
          }
        },
        "706943ca3c5f427591dfa6cfff5e2aaf": {
          "model_module": "@jupyter-widgets/controls",
          "model_name": "DescriptionStyleModel",
          "model_module_version": "1.5.0",
          "state": {
            "_model_module": "@jupyter-widgets/controls",
            "_model_module_version": "1.5.0",
            "_model_name": "DescriptionStyleModel",
            "_view_count": null,
            "_view_module": "@jupyter-widgets/base",
            "_view_module_version": "1.2.0",
            "_view_name": "StyleView",
            "description_width": ""
          }
        },
        "5af6ebee48944577862dd19df6eb31be": {
          "model_module": "@jupyter-widgets/controls",
          "model_name": "HBoxModel",
          "model_module_version": "1.5.0",
          "state": {
            "_dom_classes": [],
            "_model_module": "@jupyter-widgets/controls",
            "_model_module_version": "1.5.0",
            "_model_name": "HBoxModel",
            "_view_count": null,
            "_view_module": "@jupyter-widgets/controls",
            "_view_module_version": "1.5.0",
            "_view_name": "HBoxView",
            "box_style": "",
            "children": [
              "IPY_MODEL_a6b1b7e47a3a481d8ecc9f9e5d4009c7",
              "IPY_MODEL_09eded8b043f4f94bd7edce23ce4829f",
              "IPY_MODEL_de45781afeec4cecbdc1a1b2e745556d"
            ],
            "layout": "IPY_MODEL_ab1651ae905040a9a0bec4763029a519"
          }
        },
        "a6b1b7e47a3a481d8ecc9f9e5d4009c7": {
          "model_module": "@jupyter-widgets/controls",
          "model_name": "HTMLModel",
          "model_module_version": "1.5.0",
          "state": {
            "_dom_classes": [],
            "_model_module": "@jupyter-widgets/controls",
            "_model_module_version": "1.5.0",
            "_model_name": "HTMLModel",
            "_view_count": null,
            "_view_module": "@jupyter-widgets/controls",
            "_view_module_version": "1.5.0",
            "_view_name": "HTMLView",
            "description": "",
            "description_tooltip": null,
            "layout": "IPY_MODEL_ea307b4743cd4c28ac21e70cd566ed44",
            "placeholder": "​",
            "style": "IPY_MODEL_ce2d5549a5e54a82a94f23058d1540b5",
            "value": "100%"
          }
        },
        "09eded8b043f4f94bd7edce23ce4829f": {
          "model_module": "@jupyter-widgets/controls",
          "model_name": "FloatProgressModel",
          "model_module_version": "1.5.0",
          "state": {
            "_dom_classes": [],
            "_model_module": "@jupyter-widgets/controls",
            "_model_module_version": "1.5.0",
            "_model_name": "FloatProgressModel",
            "_view_count": null,
            "_view_module": "@jupyter-widgets/controls",
            "_view_module_version": "1.5.0",
            "_view_name": "ProgressView",
            "bar_style": "success",
            "description": "",
            "description_tooltip": null,
            "layout": "IPY_MODEL_467e55cac2694bfaa0d1ec8e9fcfcb95",
            "max": 360,
            "min": 0,
            "orientation": "horizontal",
            "style": "IPY_MODEL_8713f736e12d44b3b490bca4c194d93d",
            "value": 360
          }
        },
        "de45781afeec4cecbdc1a1b2e745556d": {
          "model_module": "@jupyter-widgets/controls",
          "model_name": "HTMLModel",
          "model_module_version": "1.5.0",
          "state": {
            "_dom_classes": [],
            "_model_module": "@jupyter-widgets/controls",
            "_model_module_version": "1.5.0",
            "_model_name": "HTMLModel",
            "_view_count": null,
            "_view_module": "@jupyter-widgets/controls",
            "_view_module_version": "1.5.0",
            "_view_name": "HTMLView",
            "description": "",
            "description_tooltip": null,
            "layout": "IPY_MODEL_149133a804e44fd4933c7def10197f1b",
            "placeholder": "​",
            "style": "IPY_MODEL_c04fe7d366014cc7819d67f252c3064f",
            "value": " 360/360 [00:09&lt;00:00, 47.03it/s]"
          }
        },
        "ab1651ae905040a9a0bec4763029a519": {
          "model_module": "@jupyter-widgets/base",
          "model_name": "LayoutModel",
          "model_module_version": "1.2.0",
          "state": {
            "_model_module": "@jupyter-widgets/base",
            "_model_module_version": "1.2.0",
            "_model_name": "LayoutModel",
            "_view_count": null,
            "_view_module": "@jupyter-widgets/base",
            "_view_module_version": "1.2.0",
            "_view_name": "LayoutView",
            "align_content": null,
            "align_items": null,
            "align_self": null,
            "border": null,
            "bottom": null,
            "display": null,
            "flex": null,
            "flex_flow": null,
            "grid_area": null,
            "grid_auto_columns": null,
            "grid_auto_flow": null,
            "grid_auto_rows": null,
            "grid_column": null,
            "grid_gap": null,
            "grid_row": null,
            "grid_template_areas": null,
            "grid_template_columns": null,
            "grid_template_rows": null,
            "height": null,
            "justify_content": null,
            "justify_items": null,
            "left": null,
            "margin": null,
            "max_height": null,
            "max_width": null,
            "min_height": null,
            "min_width": null,
            "object_fit": null,
            "object_position": null,
            "order": null,
            "overflow": null,
            "overflow_x": null,
            "overflow_y": null,
            "padding": null,
            "right": null,
            "top": null,
            "visibility": null,
            "width": null
          }
        },
        "ea307b4743cd4c28ac21e70cd566ed44": {
          "model_module": "@jupyter-widgets/base",
          "model_name": "LayoutModel",
          "model_module_version": "1.2.0",
          "state": {
            "_model_module": "@jupyter-widgets/base",
            "_model_module_version": "1.2.0",
            "_model_name": "LayoutModel",
            "_view_count": null,
            "_view_module": "@jupyter-widgets/base",
            "_view_module_version": "1.2.0",
            "_view_name": "LayoutView",
            "align_content": null,
            "align_items": null,
            "align_self": null,
            "border": null,
            "bottom": null,
            "display": null,
            "flex": null,
            "flex_flow": null,
            "grid_area": null,
            "grid_auto_columns": null,
            "grid_auto_flow": null,
            "grid_auto_rows": null,
            "grid_column": null,
            "grid_gap": null,
            "grid_row": null,
            "grid_template_areas": null,
            "grid_template_columns": null,
            "grid_template_rows": null,
            "height": null,
            "justify_content": null,
            "justify_items": null,
            "left": null,
            "margin": null,
            "max_height": null,
            "max_width": null,
            "min_height": null,
            "min_width": null,
            "object_fit": null,
            "object_position": null,
            "order": null,
            "overflow": null,
            "overflow_x": null,
            "overflow_y": null,
            "padding": null,
            "right": null,
            "top": null,
            "visibility": null,
            "width": null
          }
        },
        "ce2d5549a5e54a82a94f23058d1540b5": {
          "model_module": "@jupyter-widgets/controls",
          "model_name": "DescriptionStyleModel",
          "model_module_version": "1.5.0",
          "state": {
            "_model_module": "@jupyter-widgets/controls",
            "_model_module_version": "1.5.0",
            "_model_name": "DescriptionStyleModel",
            "_view_count": null,
            "_view_module": "@jupyter-widgets/base",
            "_view_module_version": "1.2.0",
            "_view_name": "StyleView",
            "description_width": ""
          }
        },
        "467e55cac2694bfaa0d1ec8e9fcfcb95": {
          "model_module": "@jupyter-widgets/base",
          "model_name": "LayoutModel",
          "model_module_version": "1.2.0",
          "state": {
            "_model_module": "@jupyter-widgets/base",
            "_model_module_version": "1.2.0",
            "_model_name": "LayoutModel",
            "_view_count": null,
            "_view_module": "@jupyter-widgets/base",
            "_view_module_version": "1.2.0",
            "_view_name": "LayoutView",
            "align_content": null,
            "align_items": null,
            "align_self": null,
            "border": null,
            "bottom": null,
            "display": null,
            "flex": null,
            "flex_flow": null,
            "grid_area": null,
            "grid_auto_columns": null,
            "grid_auto_flow": null,
            "grid_auto_rows": null,
            "grid_column": null,
            "grid_gap": null,
            "grid_row": null,
            "grid_template_areas": null,
            "grid_template_columns": null,
            "grid_template_rows": null,
            "height": null,
            "justify_content": null,
            "justify_items": null,
            "left": null,
            "margin": null,
            "max_height": null,
            "max_width": null,
            "min_height": null,
            "min_width": null,
            "object_fit": null,
            "object_position": null,
            "order": null,
            "overflow": null,
            "overflow_x": null,
            "overflow_y": null,
            "padding": null,
            "right": null,
            "top": null,
            "visibility": null,
            "width": null
          }
        },
        "8713f736e12d44b3b490bca4c194d93d": {
          "model_module": "@jupyter-widgets/controls",
          "model_name": "ProgressStyleModel",
          "model_module_version": "1.5.0",
          "state": {
            "_model_module": "@jupyter-widgets/controls",
            "_model_module_version": "1.5.0",
            "_model_name": "ProgressStyleModel",
            "_view_count": null,
            "_view_module": "@jupyter-widgets/base",
            "_view_module_version": "1.2.0",
            "_view_name": "StyleView",
            "bar_color": null,
            "description_width": ""
          }
        },
        "149133a804e44fd4933c7def10197f1b": {
          "model_module": "@jupyter-widgets/base",
          "model_name": "LayoutModel",
          "model_module_version": "1.2.0",
          "state": {
            "_model_module": "@jupyter-widgets/base",
            "_model_module_version": "1.2.0",
            "_model_name": "LayoutModel",
            "_view_count": null,
            "_view_module": "@jupyter-widgets/base",
            "_view_module_version": "1.2.0",
            "_view_name": "LayoutView",
            "align_content": null,
            "align_items": null,
            "align_self": null,
            "border": null,
            "bottom": null,
            "display": null,
            "flex": null,
            "flex_flow": null,
            "grid_area": null,
            "grid_auto_columns": null,
            "grid_auto_flow": null,
            "grid_auto_rows": null,
            "grid_column": null,
            "grid_gap": null,
            "grid_row": null,
            "grid_template_areas": null,
            "grid_template_columns": null,
            "grid_template_rows": null,
            "height": null,
            "justify_content": null,
            "justify_items": null,
            "left": null,
            "margin": null,
            "max_height": null,
            "max_width": null,
            "min_height": null,
            "min_width": null,
            "object_fit": null,
            "object_position": null,
            "order": null,
            "overflow": null,
            "overflow_x": null,
            "overflow_y": null,
            "padding": null,
            "right": null,
            "top": null,
            "visibility": null,
            "width": null
          }
        },
        "c04fe7d366014cc7819d67f252c3064f": {
          "model_module": "@jupyter-widgets/controls",
          "model_name": "DescriptionStyleModel",
          "model_module_version": "1.5.0",
          "state": {
            "_model_module": "@jupyter-widgets/controls",
            "_model_module_version": "1.5.0",
            "_model_name": "DescriptionStyleModel",
            "_view_count": null,
            "_view_module": "@jupyter-widgets/base",
            "_view_module_version": "1.2.0",
            "_view_name": "StyleView",
            "description_width": ""
          }
        }
      }
    }
  },
  "nbformat": 4,
  "nbformat_minor": 0
}